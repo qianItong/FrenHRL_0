{
 "cells": [
  {
   "cell_type": "code",
   "execution_count": 1,
   "id": "f2fe1959-9fad-48c8-ae0f-00d6af375a83",
   "metadata": {},
   "outputs": [],
   "source": [
    "# Useful imports\n",
    "import os\n",
    "from pathlib import Path\n",
    "import tempfile\n",
    "import hydra\n",
    "import sys"
   ]
  },
  {
   "cell_type": "markdown",
   "id": "951b38bc",
   "metadata": {},
   "source": [
    "### User Configuration Section"
   ]
  },
  {
   "cell_type": "code",
   "execution_count": null,
   "id": "acac0e11",
   "metadata": {},
   "outputs": [],
   "source": [
    "RESULT_FOLDER = \"/home/qian/nuplan/exp/exp/simulation/closed_loop_nonreactive_agents/HiFren_planner/E2/2/\" # simulation result absolute path (e.g., \"/data/nuplan-v1.1/exp/exp/simulation/closed_loop_nonreactive_agents/diffusion_planner/val14/diffusion_planner_release/model_2025-01-25-18-29-09\")\n",
    "env_variables = {\n",
    "    \"NUPLAN_DEVKIT_ROOT\": \"/home/qian/Codes/nuplan/nuplan-devkit/\",  # nuplan-devkit absolute path (e.g., \"/home/user/nuplan-devkit\")\n",
    "    \"NUPLAN_DATA_ROOT\": \"/home/qian/Codes/nuplan/dataset/\", # nuplan dataset absolute path (e.g. \"/data\")\n",
    "    \"NUPLAN_MAPS_ROOT\": \"/home/qian/Codes/nuplan/dataset/maps/\", # nuplan maps absolute path (e.g. \"/data/nuplan-v1.1/maps\")\n",
    "    \"NUPLAN_EXP_ROOT\": \"/home/qian/nuplan/exp/\", # nuplan experiment absolute path (e.g. \"/data/nuplan-v1.1/exp\")\n",
    "    \"NUPLAN_SIMULATION_ALLOW_ANY_BUILDER\":\"1\"\n",
    "}\n",
    "\n",
    "for k, v in env_variables.items():\n",
    "    os.environ[k] = v\n",
    "\n",
    "# Location of path with all nuBoard configs\n",
    "CONFIG_PATH = '../nuplan/nuplan-devkit/nuplan/planning/script/config/nuboard' # relative path to nuplan-devkit"
   ]
  },
  {
   "cell_type": "code",
   "execution_count": 127,
   "id": "6bbaf495-5298-4f99-8f2a-6cdf9e9a61a3",
   "metadata": {},
   "outputs": [],
   "source": [
    "CONFIG_NAME = 'default_nuboard'\n",
    "\n",
    "# Initialize configuration management system\n",
    "hydra.core.global_hydra.GlobalHydra.instance().clear()  # reinitialize hydra if already initialized\n",
    "hydra.initialize(config_path=CONFIG_PATH)\n",
    "\n",
    "ml_planner_simulation_folder = RESULT_FOLDER\n",
    "ml_planner_simulation_folder = [dp for dp, _, fn in os.walk(ml_planner_simulation_folder) if True in ['.nuboard' in x for x in fn]]\n",
    "\n",
    "# Compose the configuration\n",
    "cfg = hydra.compose(config_name=CONFIG_NAME, overrides=[\n",
    "    'scenario_builder=nuplan',  # set the database (same as simulation) used to fetch data for visualization\n",
    "    f'simulation_path={ml_planner_simulation_folder}',  # nuboard file path(s), if left empty the user can open the file inside nuBoard\n",
    "    'hydra.searchpath=[pkg://diffusion_planner.config.scenario_filter, pkg://diffusion_planner.config, pkg://nuplan.planning.script.config.common, pkg://nuplan.planning.script.experiments]',\n",
    "    'port_number=6604'\n",
    "])"
   ]
  },
  {
   "cell_type": "code",
   "execution_count": 128,
   "id": "0f416202-cd79-4251-8fe7-a06d6770ed7c",
   "metadata": {},
   "outputs": [
    {
     "name": "stderr",
     "output_type": "stream",
     "text": [
      "INFO:nuplan.planning.script.builders.scenario_building_builder:Building AbstractScenarioBuilder...\n",
      "INFO:nuplan.planning.script.builders.scenario_building_builder:Building AbstractScenarioBuilder...DONE!\n",
      "INFO:nuplan.planning.nuboard.nuboard:Opening Bokeh application on http://localhost:6604/\n",
      "INFO:nuplan.planning.nuboard.nuboard:Async rendering is set to: True\n",
      "INFO:bokeh.server.server:Starting Bokeh server version 2.4.3 (running on Tornado 6.4.2)\n",
      "WARNING:bokeh.server.util:Host wildcard '*' will allow connections originating from multiple (or possibly all) hostnames or IPs. Use non-wildcard values to restrict access explicitly\n",
      "INFO:bokeh.server.tornado:User authentication hooks NOT provided (default user enabled)\n",
      "INFO:nuplan.planning.nuboard.base.simulation_tile:Minimum frame time=0.017 s\n",
      "INFO:nuplan.planning.nuboard.tabs.scenario_tab:Rending scenario plot takes 0.0004 seconds.\n",
      "INFO:tornado.access:200 GET / (::1) 129.56ms\n",
      "INFO:tornado.access:200 GET / (::1) 129.56ms\n",
      "INFO:tornado.access:200 GET /resource/spectre.min.css (::1) 0.47ms\n",
      "INFO:tornado.access:200 GET /resource/spectre.min.css (::1) 0.47ms\n",
      "INFO:tornado.access:200 GET /resource/spectre-exp.min.css (::1) 0.23ms\n",
      "INFO:tornado.access:200 GET /resource/spectre-exp.min.css (::1) 0.23ms\n",
      "INFO:tornado.access:200 GET /resource/spectre-icons.min.css (::1) 0.22ms\n",
      "INFO:tornado.access:200 GET /resource/spectre-icons.min.css (::1) 0.22ms\n",
      "INFO:tornado.access:200 GET /resource/style.css (::1) 0.33ms\n",
      "INFO:tornado.access:200 GET /resource/style.css (::1) 0.33ms\n",
      "INFO:tornado.access:200 GET /resource/css/overview.css (::1) 0.38ms\n",
      "INFO:tornado.access:200 GET /resource/css/overview.css (::1) 0.38ms\n",
      "INFO:tornado.access:200 GET /resource/css/cloud.css (::1) 0.81ms\n",
      "INFO:tornado.access:200 GET /resource/css/cloud.css (::1) 0.81ms\n",
      "INFO:tornado.access:200 GET /resource/css/scenario.css (::1) 0.35ms\n",
      "INFO:tornado.access:200 GET /resource/css/scenario.css (::1) 0.35ms\n",
      "INFO:tornado.access:200 GET /resource/css/histogram.css (::1) 0.28ms\n",
      "INFO:tornado.access:200 GET /resource/css/histogram.css (::1) 0.28ms\n",
      "INFO:tornado.access:200 GET /static/js/bokeh.min.js?v=3c61e952b808bb7e346ce828a565a5f23aaf7708d034fa9d0906403813355d45bb4e8d8b0b23a93f032c76831d4f0221846f28699c7f5147caa62e0d31668314 (::1) 0.58ms\n",
      "INFO:tornado.access:200 GET /static/js/bokeh.min.js?v=3c61e952b808bb7e346ce828a565a5f23aaf7708d034fa9d0906403813355d45bb4e8d8b0b23a93f032c76831d4f0221846f28699c7f5147caa62e0d31668314 (::1) 0.58ms\n",
      "INFO:tornado.access:200 GET /static/js/bokeh-gl.min.js?v=e5df31fd9010eacff0aa72d315264604b5e34972ba445acea6fce98080eecf33acf2d2986126360faaa5852813cffa16f6f6f4889923318300f062497c02da4e (::1) 0.46ms\n",
      "INFO:tornado.access:200 GET /static/js/bokeh-gl.min.js?v=e5df31fd9010eacff0aa72d315264604b5e34972ba445acea6fce98080eecf33acf2d2986126360faaa5852813cffa16f6f6f4889923318300f062497c02da4e (::1) 0.46ms\n",
      "INFO:tornado.access:200 GET /static/js/bokeh-widgets.min.js?v=8a1ff6f5aa0d967f4998d275803bbb111d928fd9f605ef9e1f30cfd021df0e77224ee3d13f83edb3a942f6e4ccc569ee5dd8951a8aa6cb600602463b90c65a87 (::1) 0.60ms\n",
      "INFO:tornado.access:200 GET /static/js/bokeh-widgets.min.js?v=8a1ff6f5aa0d967f4998d275803bbb111d928fd9f605ef9e1f30cfd021df0e77224ee3d13f83edb3a942f6e4ccc569ee5dd8951a8aa6cb600602463b90c65a87 (::1) 0.60ms\n",
      "INFO:tornado.access:200 GET /static/js/bokeh-tables.min.js?v=ae2903e57cf57f52819fdf4d938c648982b51c34f73b6e653a0f3bb3c8ab44f338505931ace43eafc1636e215492e2314acf54c54baffb47813b86b4923a7fe0 (::1) 1.08ms\n",
      "INFO:tornado.access:200 GET /static/js/bokeh-tables.min.js?v=ae2903e57cf57f52819fdf4d938c648982b51c34f73b6e653a0f3bb3c8ab44f338505931ace43eafc1636e215492e2314acf54c54baffb47813b86b4923a7fe0 (::1) 1.08ms\n",
      "INFO:tornado.access:200 GET /static/js/bokeh-mathjax.min.js?v=176c36fdbcd8fc1019fc828101a2804081a35baf4018d7f2633cd263156b593aa73112f400112b662daa0590138b74851bc91f1f2a5fbf5416ee8c876c3e0d0c (::1) 1.01ms\n",
      "INFO:tornado.access:200 GET /static/js/bokeh-mathjax.min.js?v=176c36fdbcd8fc1019fc828101a2804081a35baf4018d7f2633cd263156b593aa73112f400112b662daa0590138b74851bc91f1f2a5fbf5416ee8c876c3e0d0c (::1) 1.01ms\n",
      "INFO:tornado.access:200 GET /resource/scripts/utils.js (::1) 0.45ms\n",
      "INFO:tornado.access:200 GET /resource/scripts/utils.js (::1) 0.45ms\n",
      "INFO:tornado.access:200 GET /resource/motional_logo.png (::1) 0.32ms\n",
      "INFO:tornado.access:200 GET /resource/motional_logo.png (::1) 0.32ms\n"
     ]
    },
    {
     "name": "stdout",
     "output_type": "stream",
     "text": [
      "正在现有浏览器会话中打开。\n"
     ]
    },
    {
     "name": "stderr",
     "output_type": "stream",
     "text": [
      "INFO:tornado.access:101 GET /ws (::1) 0.40ms\n",
      "INFO:tornado.access:101 GET /ws (::1) 0.40ms\n",
      "INFO:bokeh.server.views.ws:WebSocket connection opened\n",
      "INFO:bokeh.server.views.ws:ServerConnection created\n",
      "WARNING:tornado.access:404 GET /favicon.ico (::1) 0.27ms\n",
      "WARNING:tornado.access:404 GET /favicon.ico (::1) 0.27ms\n",
      "Rendering a scenario: 100%|██████████| 1/1 [00:00<00:00, 61.04it/s]\n",
      "INFO:nuplan.planning.nuboard.tabs.scenario_tab:Rending scenario plot takes 1.9647 seconds.\n",
      "INFO:nuplan.planning.nuboard.base.simulation_tile:Frame deferred: 4\n",
      "INFO:nuplan.planning.nuboard.base.simulation_tile:Frame deferred: 6\n",
      "INFO:nuplan.planning.nuboard.base.simulation_tile:Frame deferred: 9\n",
      "INFO:nuplan.planning.nuboard.base.simulation_tile:Frame deferred: 11\n",
      "INFO:nuplan.planning.nuboard.base.simulation_tile:Frame deferred: 12\n",
      "INFO:nuplan.planning.nuboard.base.simulation_tile:Frame deferred: 13\n",
      "INFO:nuplan.planning.nuboard.base.simulation_tile:Frame deferred: 14\n",
      "INFO:nuplan.planning.nuboard.base.simulation_tile:Frame deferred: 15\n",
      "INFO:nuplan.planning.nuboard.base.simulation_tile:Frame deferred: 16\n",
      "INFO:nuplan.planning.nuboard.base.simulation_tile:Frame deferred: 19\n",
      "INFO:nuplan.planning.nuboard.base.simulation_tile:Frame deferred: 21\n",
      "INFO:nuplan.planning.nuboard.base.simulation_tile:Frame deferred: 28\n",
      "INFO:nuplan.planning.nuboard.base.simulation_tile:Frame deferred: 32\n",
      "INFO:nuplan.planning.nuboard.base.simulation_tile:Frame deferred: 34\n",
      "INFO:nuplan.planning.nuboard.base.simulation_tile:Frame deferred: 40\n",
      "INFO:nuplan.planning.nuboard.base.simulation_tile:Frame deferred: 47\n",
      "INFO:nuplan.planning.nuboard.base.simulation_tile:Frame deferred: 51\n",
      "INFO:nuplan.planning.nuboard.base.simulation_tile:Frame deferred: 55\n",
      "INFO:nuplan.planning.nuboard.base.simulation_tile:Frame deferred: 57\n",
      "INFO:nuplan.planning.nuboard.base.simulation_tile:Frame deferred: 59\n",
      "INFO:nuplan.planning.nuboard.base.simulation_tile:Frame deferred: 61\n",
      "INFO:nuplan.planning.nuboard.base.simulation_tile:Frame deferred: 68\n",
      "INFO:nuplan.planning.nuboard.base.simulation_tile:Processing render queue for frame 68\n",
      "INFO:nuplan.planning.nuboard.base.simulation_tile:Frame deferred: 69\n",
      "INFO:nuplan.planning.nuboard.base.simulation_tile:Frame deferred: 72\n",
      "INFO:nuplan.planning.nuboard.base.simulation_tile:Frame deferred: 81\n",
      "INFO:nuplan.planning.nuboard.base.simulation_tile:Frame deferred: 89\n",
      "INFO:nuplan.planning.nuboard.base.simulation_tile:Frame deferred: 92\n",
      "INFO:nuplan.planning.nuboard.base.simulation_tile:Frame deferred: 101\n",
      "INFO:nuplan.planning.nuboard.base.simulation_tile:Frame deferred: 113\n",
      "INFO:nuplan.planning.nuboard.base.simulation_tile:Frame deferred: 119\n",
      "INFO:nuplan.planning.nuboard.base.simulation_tile:Frame deferred: 118\n",
      "INFO:nuplan.planning.nuboard.base.simulation_tile:Frame deferred: 59\n",
      "INFO:nuplan.planning.nuboard.base.simulation_tile:Frame deferred: 51\n",
      "INFO:nuplan.planning.nuboard.base.simulation_tile:Frame deferred: 47\n",
      "INFO:nuplan.planning.nuboard.base.simulation_tile:Frame deferred: 42\n",
      "INFO:nuplan.planning.nuboard.base.simulation_tile:Frame deferred: 38\n",
      "INFO:nuplan.planning.nuboard.base.simulation_tile:Frame deferred: 31\n",
      "INFO:nuplan.planning.nuboard.base.simulation_tile:Frame deferred: 27\n",
      "INFO:nuplan.planning.nuboard.base.simulation_tile:Frame deferred: 25\n",
      "INFO:nuplan.planning.nuboard.base.simulation_tile:Frame deferred: 23\n",
      "INFO:nuplan.planning.nuboard.base.simulation_tile:Frame deferred: 21\n",
      "INFO:nuplan.planning.nuboard.base.simulation_tile:Frame deferred: 18\n",
      "INFO:nuplan.planning.nuboard.base.simulation_tile:Frame deferred: 15\n",
      "INFO:nuplan.planning.nuboard.base.simulation_tile:Frame deferred: 12\n",
      "INFO:nuplan.planning.nuboard.base.simulation_tile:Frame deferred: 9\n",
      "INFO:nuplan.planning.nuboard.base.simulation_tile:Frame deferred: 7\n",
      "INFO:nuplan.planning.nuboard.base.simulation_tile:Frame deferred: 3\n",
      "INFO:nuplan.planning.nuboard.base.simulation_tile:Frame deferred: 0\n",
      "INFO:nuplan.planning.nuboard.base.simulation_tile:Processing render queue for frame 0\n",
      "INFO:bokeh.server.views.ws:WebSocket connection closed: code=1001, reason=None\n",
      "INFO:tornado.access:101 GET /ws (::1) 0.35ms\n",
      "INFO:tornado.access:101 GET /ws (::1) 0.35ms\n",
      "INFO:bokeh.server.views.ws:WebSocket connection opened\n",
      "INFO:bokeh.server.views.ws:ServerConnection created\n",
      "WARNING:tornado.access:404 GET /favicon.ico (::1) 43.84ms\n",
      "WARNING:tornado.access:404 GET /favicon.ico (::1) 43.84ms\n"
     ]
    },
    {
     "ename": "KeyboardInterrupt",
     "evalue": "",
     "output_type": "error",
     "traceback": [
      "\u001b[0;31m---------------------------------------------------------------------------\u001b[0m",
      "\u001b[0;31mKeyboardInterrupt\u001b[0m                         Traceback (most recent call last)",
      "Cell \u001b[0;32mIn[128], line 4\u001b[0m\n\u001b[1;32m      1\u001b[0m \u001b[38;5;28;01mfrom\u001b[39;00m\u001b[38;5;250m \u001b[39m\u001b[38;5;21;01mnuplan\u001b[39;00m\u001b[38;5;21;01m.\u001b[39;00m\u001b[38;5;21;01mplanning\u001b[39;00m\u001b[38;5;21;01m.\u001b[39;00m\u001b[38;5;21;01mscript\u001b[39;00m\u001b[38;5;21;01m.\u001b[39;00m\u001b[38;5;21;01mrun_nuboard\u001b[39;00m\u001b[38;5;250m \u001b[39m\u001b[38;5;28;01mimport\u001b[39;00m main \u001b[38;5;28;01mas\u001b[39;00m main_nuboard\n\u001b[1;32m      3\u001b[0m \u001b[38;5;66;03m# Run nuBoard\u001b[39;00m\n\u001b[0;32m----> 4\u001b[0m \u001b[43mmain_nuboard\u001b[49m\u001b[43m(\u001b[49m\u001b[43mcfg\u001b[49m\u001b[43m)\u001b[49m\n",
      "File \u001b[0;32m~/.conda/envs/nuplan/lib/python3.9/site-packages/hydra/main.py:44\u001b[0m, in \u001b[0;36mmain.<locals>.main_decorator.<locals>.decorated_main\u001b[0;34m(cfg_passthrough)\u001b[0m\n\u001b[1;32m     41\u001b[0m \u001b[38;5;129m@functools\u001b[39m\u001b[38;5;241m.\u001b[39mwraps(task_function)\n\u001b[1;32m     42\u001b[0m \u001b[38;5;28;01mdef\u001b[39;00m\u001b[38;5;250m \u001b[39m\u001b[38;5;21mdecorated_main\u001b[39m(cfg_passthrough: Optional[DictConfig] \u001b[38;5;241m=\u001b[39m \u001b[38;5;28;01mNone\u001b[39;00m) \u001b[38;5;241m-\u001b[39m\u001b[38;5;241m>\u001b[39m Any:\n\u001b[1;32m     43\u001b[0m     \u001b[38;5;28;01mif\u001b[39;00m cfg_passthrough \u001b[38;5;129;01mis\u001b[39;00m \u001b[38;5;129;01mnot\u001b[39;00m \u001b[38;5;28;01mNone\u001b[39;00m:\n\u001b[0;32m---> 44\u001b[0m         \u001b[38;5;28;01mreturn\u001b[39;00m \u001b[43mtask_function\u001b[49m\u001b[43m(\u001b[49m\u001b[43mcfg_passthrough\u001b[49m\u001b[43m)\u001b[49m\n\u001b[1;32m     45\u001b[0m     \u001b[38;5;28;01melse\u001b[39;00m:\n\u001b[1;32m     46\u001b[0m         args \u001b[38;5;241m=\u001b[39m get_args_parser()\n",
      "File \u001b[0;32m~/Codes/nuplan/nuplan-devkit/nuplan/planning/script/run_nuboard.py:74\u001b[0m, in \u001b[0;36mmain\u001b[0;34m(cfg)\u001b[0m\n\u001b[1;32m     69\u001b[0m \u001b[38;5;250m\u001b[39m\u001b[38;5;124;03m\"\"\"\u001b[39;00m\n\u001b[1;32m     70\u001b[0m \u001b[38;5;124;03mExecute all available challenges simultaneously on the same scenario.\u001b[39;00m\n\u001b[1;32m     71\u001b[0m \u001b[38;5;124;03m:param cfg: DictConfig. Configuration that is used to run the experiment.\u001b[39;00m\n\u001b[1;32m     72\u001b[0m \u001b[38;5;124;03m\"\"\"\u001b[39;00m\n\u001b[1;32m     73\u001b[0m nuboard \u001b[38;5;241m=\u001b[39m initialize_nuboard(cfg)\n\u001b[0;32m---> 74\u001b[0m \u001b[43mnuboard\u001b[49m\u001b[38;5;241;43m.\u001b[39;49m\u001b[43mrun\u001b[49m\u001b[43m(\u001b[49m\u001b[43m)\u001b[49m\n",
      "File \u001b[0;32m~/Codes/nuplan/nuplan-devkit/nuplan/planning/nuboard/nuboard.py:112\u001b[0m, in \u001b[0;36mNuBoard.run\u001b[0;34m(self)\u001b[0m\n\u001b[1;32m    110\u001b[0m \u001b[38;5;66;03m# Catch RuntimeError in jupyter notebook\u001b[39;00m\n\u001b[1;32m    111\u001b[0m \u001b[38;5;28;01mtry\u001b[39;00m:\n\u001b[0;32m--> 112\u001b[0m     \u001b[43mio_loop\u001b[49m\u001b[38;5;241;43m.\u001b[39;49m\u001b[43mstart\u001b[49m\u001b[43m(\u001b[49m\u001b[43m)\u001b[49m\n\u001b[1;32m    113\u001b[0m \u001b[38;5;28;01mexcept\u001b[39;00m \u001b[38;5;167;01mRuntimeError\u001b[39;00m \u001b[38;5;28;01mas\u001b[39;00m e:\n\u001b[1;32m    114\u001b[0m     logger\u001b[38;5;241m.\u001b[39mwarning(\u001b[38;5;124mf\u001b[39m\u001b[38;5;124m\"\u001b[39m\u001b[38;5;132;01m{\u001b[39;00me\u001b[38;5;132;01m}\u001b[39;00m\u001b[38;5;124m\"\u001b[39m)\n",
      "File \u001b[0;32m~/.conda/envs/nuplan/lib/python3.9/site-packages/tornado/platform/asyncio.py:205\u001b[0m, in \u001b[0;36mBaseAsyncIOLoop.start\u001b[0;34m(self)\u001b[0m\n\u001b[1;32m    204\u001b[0m \u001b[38;5;28;01mdef\u001b[39;00m\u001b[38;5;250m \u001b[39m\u001b[38;5;21mstart\u001b[39m(\u001b[38;5;28mself\u001b[39m) \u001b[38;5;241m-\u001b[39m\u001b[38;5;241m>\u001b[39m \u001b[38;5;28;01mNone\u001b[39;00m:\n\u001b[0;32m--> 205\u001b[0m     \u001b[38;5;28;43mself\u001b[39;49m\u001b[38;5;241;43m.\u001b[39;49m\u001b[43masyncio_loop\u001b[49m\u001b[38;5;241;43m.\u001b[39;49m\u001b[43mrun_forever\u001b[49m\u001b[43m(\u001b[49m\u001b[43m)\u001b[49m\n",
      "File \u001b[0;32m~/.conda/envs/nuplan/lib/python3.9/site-packages/nest_asyncio.py:81\u001b[0m, in \u001b[0;36m_patch_loop.<locals>.run_forever\u001b[0;34m(self)\u001b[0m\n\u001b[1;32m     79\u001b[0m \u001b[38;5;28;01mwith\u001b[39;00m manage_run(\u001b[38;5;28mself\u001b[39m), manage_asyncgens(\u001b[38;5;28mself\u001b[39m):\n\u001b[1;32m     80\u001b[0m     \u001b[38;5;28;01mwhile\u001b[39;00m \u001b[38;5;28;01mTrue\u001b[39;00m:\n\u001b[0;32m---> 81\u001b[0m         \u001b[38;5;28;43mself\u001b[39;49m\u001b[38;5;241;43m.\u001b[39;49m\u001b[43m_run_once\u001b[49m\u001b[43m(\u001b[49m\u001b[43m)\u001b[49m\n\u001b[1;32m     82\u001b[0m         \u001b[38;5;28;01mif\u001b[39;00m \u001b[38;5;28mself\u001b[39m\u001b[38;5;241m.\u001b[39m_stopping:\n\u001b[1;32m     83\u001b[0m             \u001b[38;5;28;01mbreak\u001b[39;00m\n",
      "File \u001b[0;32m~/.conda/envs/nuplan/lib/python3.9/site-packages/nest_asyncio.py:115\u001b[0m, in \u001b[0;36m_patch_loop.<locals>._run_once\u001b[0;34m(self)\u001b[0m\n\u001b[1;32m    108\u001b[0m     heappop(scheduled)\n\u001b[1;32m    110\u001b[0m timeout \u001b[38;5;241m=\u001b[39m (\n\u001b[1;32m    111\u001b[0m     \u001b[38;5;241m0\u001b[39m \u001b[38;5;28;01mif\u001b[39;00m ready \u001b[38;5;129;01mor\u001b[39;00m \u001b[38;5;28mself\u001b[39m\u001b[38;5;241m.\u001b[39m_stopping\n\u001b[1;32m    112\u001b[0m     \u001b[38;5;28;01melse\u001b[39;00m \u001b[38;5;28mmin\u001b[39m(\u001b[38;5;28mmax\u001b[39m(\n\u001b[1;32m    113\u001b[0m         scheduled[\u001b[38;5;241m0\u001b[39m]\u001b[38;5;241m.\u001b[39m_when \u001b[38;5;241m-\u001b[39m \u001b[38;5;28mself\u001b[39m\u001b[38;5;241m.\u001b[39mtime(), \u001b[38;5;241m0\u001b[39m), \u001b[38;5;241m86400\u001b[39m) \u001b[38;5;28;01mif\u001b[39;00m scheduled\n\u001b[1;32m    114\u001b[0m     \u001b[38;5;28;01melse\u001b[39;00m \u001b[38;5;28;01mNone\u001b[39;00m)\n\u001b[0;32m--> 115\u001b[0m event_list \u001b[38;5;241m=\u001b[39m \u001b[38;5;28;43mself\u001b[39;49m\u001b[38;5;241;43m.\u001b[39;49m\u001b[43m_selector\u001b[49m\u001b[38;5;241;43m.\u001b[39;49m\u001b[43mselect\u001b[49m\u001b[43m(\u001b[49m\u001b[43mtimeout\u001b[49m\u001b[43m)\u001b[49m\n\u001b[1;32m    116\u001b[0m \u001b[38;5;28mself\u001b[39m\u001b[38;5;241m.\u001b[39m_process_events(event_list)\n\u001b[1;32m    118\u001b[0m end_time \u001b[38;5;241m=\u001b[39m \u001b[38;5;28mself\u001b[39m\u001b[38;5;241m.\u001b[39mtime() \u001b[38;5;241m+\u001b[39m \u001b[38;5;28mself\u001b[39m\u001b[38;5;241m.\u001b[39m_clock_resolution\n",
      "File \u001b[0;32m~/.conda/envs/nuplan/lib/python3.9/selectors.py:469\u001b[0m, in \u001b[0;36mEpollSelector.select\u001b[0;34m(self, timeout)\u001b[0m\n\u001b[1;32m    467\u001b[0m ready \u001b[38;5;241m=\u001b[39m []\n\u001b[1;32m    468\u001b[0m \u001b[38;5;28;01mtry\u001b[39;00m:\n\u001b[0;32m--> 469\u001b[0m     fd_event_list \u001b[38;5;241m=\u001b[39m \u001b[38;5;28;43mself\u001b[39;49m\u001b[38;5;241;43m.\u001b[39;49m\u001b[43m_selector\u001b[49m\u001b[38;5;241;43m.\u001b[39;49m\u001b[43mpoll\u001b[49m\u001b[43m(\u001b[49m\u001b[43mtimeout\u001b[49m\u001b[43m,\u001b[49m\u001b[43m \u001b[49m\u001b[43mmax_ev\u001b[49m\u001b[43m)\u001b[49m\n\u001b[1;32m    470\u001b[0m \u001b[38;5;28;01mexcept\u001b[39;00m \u001b[38;5;167;01mInterruptedError\u001b[39;00m:\n\u001b[1;32m    471\u001b[0m     \u001b[38;5;28;01mreturn\u001b[39;00m ready\n",
      "\u001b[0;31mKeyboardInterrupt\u001b[0m: "
     ]
    }
   ],
   "source": [
    "from nuplan.planning.script.run_nuboard import main as main_nuboard\n",
    "\n",
    "# Run nuBoard\n",
    "main_nuboard(cfg)"
   ]
  },
  {
   "cell_type": "code",
   "execution_count": null,
   "id": "6a06aa69-b5a8-42df-867b-63ebeeebf33a",
   "metadata": {},
   "outputs": [],
   "source": []
  }
 ],
 "metadata": {
  "kernelspec": {
   "display_name": "nuplan_dataset",
   "language": "python",
   "name": "python3"
  },
  "language_info": {
   "codemirror_mode": {
    "name": "ipython",
    "version": 3
   },
   "file_extension": ".py",
   "mimetype": "text/x-python",
   "name": "python",
   "nbconvert_exporter": "python",
   "pygments_lexer": "ipython3",
   "version": "3.9.15"
  }
 },
 "nbformat": 4,
 "nbformat_minor": 5
}
